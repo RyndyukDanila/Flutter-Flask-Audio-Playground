{
 "cells": [
  {
   "attachments": {},
   "cell_type": "markdown",
   "metadata": {},
   "source": [
    "# TTS"
   ]
  },
  {
   "attachments": {},
   "cell_type": "markdown",
   "metadata": {},
   "source": [
    "### pips"
   ]
  },
  {
   "cell_type": "code",
   "execution_count": 1,
   "metadata": {},
   "outputs": [],
   "source": [
    "# %pip install gTTs"
   ]
  },
  {
   "attachments": {},
   "cell_type": "markdown",
   "metadata": {},
   "source": [
    "### TTS"
   ]
  },
  {
   "cell_type": "code",
   "execution_count": 7,
   "metadata": {},
   "outputs": [],
   "source": [
    "from gtts import gTTS\n",
    "\n",
    "# lang = input()\n",
    "# tld = input()\n",
    "# slow = input()\n",
    "# text = input()\n",
    "\n",
    "slow = False\n",
    "lang = 'ru'\n",
    "# text = 'Dungeons & Dragons takes you and your friends on epic journeys. Become characters you create, battle deadly foes, uncover secrets, find treasure, and make memories that last a lifetime.'\n",
    "# text = 'Дунгеонс & Драгонс такес ёу анд ёур фриендс он епиc джорнеyс. Беcоме чараcтерс ёу cреате, баттле деадлy фоес, унcовер сеcретс, финд треасуре, анд маке мемориес тат ласт а лифетиме.'\n",
    "text = '10 МИНУТ ЧТЕНИЯ ДОКУМЕНТАЦИИ? НЕТ! 7 ЧАСОВ ДЕБАГГИНГА )'\n",
    "\n",
    "tts = gTTS(\n",
    "           slow=slow,\n",
    "           lang=lang, \n",
    "           text=text,\n",
    "           )\n",
    "\n",
    "tts.save(\"testing/tts-file.mp3\")"
   ]
  },
  {
   "attachments": {},
   "cell_type": "markdown",
   "metadata": {},
   "source": [
    "# STT"
   ]
  },
  {
   "attachments": {},
   "cell_type": "markdown",
   "metadata": {},
   "source": [
    "### pips"
   ]
  },
  {
   "cell_type": "code",
   "execution_count": 3,
   "metadata": {},
   "outputs": [],
   "source": [
    "# %pip install speechrecognition"
   ]
  },
  {
   "cell_type": "code",
   "execution_count": 4,
   "metadata": {},
   "outputs": [],
   "source": [
    "# %pip install pyaudio"
   ]
  },
  {
   "cell_type": "code",
   "execution_count": 5,
   "metadata": {},
   "outputs": [],
   "source": [
    "# %pip install pyttsx3"
   ]
  },
  {
   "cell_type": "code",
   "execution_count": 6,
   "metadata": {},
   "outputs": [],
   "source": [
    "# %pip install keyboard"
   ]
  },
  {
   "attachments": {},
   "cell_type": "markdown",
   "metadata": {},
   "source": [
    "### STT"
   ]
  },
  {
   "cell_type": "code",
   "execution_count": 12,
   "metadata": {},
   "outputs": [
    {
     "name": "stdout",
     "output_type": "stream",
     "text": [
      "Start recording, press \"q\" to stop…\n",
      "End recording. \n",
      "\n",
      "You said: Неужели спустя 7:00 У меня получилось\n"
     ]
    }
   ],
   "source": [
    "# MAKE RECORD\n",
    "import pyaudio\n",
    "\n",
    "CHUNCK = 1024\n",
    "FORMAT = pyaudio.paInt16\n",
    "CHANNELS = 1\n",
    "RATE = 44100\n",
    "\n",
    "p = pyaudio.PyAudio()\n",
    "\n",
    "stream = p.open(format=FORMAT,\n",
    "                channels=CHANNELS,\n",
    "                rate=RATE,\n",
    "                frames_per_buffer=CHUNCK,\n",
    "                input=True)\n",
    "\n",
    "print('Start recording, press \"q\" to stop…')\n",
    "\n",
    "frames = []\n",
    "\n",
    "import keyboard\n",
    "while True:\n",
    "    if keyboard.is_pressed('q'):\n",
    "        break\n",
    "    data = stream.read(CHUNCK)\n",
    "    frames.append(data)\n",
    "\n",
    "print('End recording. \\n')\n",
    "\n",
    "stream.stop_stream()\n",
    "stream.close()\n",
    "p.terminate()\n",
    "\n",
    "\n",
    "\n",
    "# SAVE RECORD\n",
    "import wave\n",
    "\n",
    "filename = \"testing/stt-file.wav\"\n",
    "\n",
    "wf = wave.open(filename, 'wb')\n",
    "wf.setnchannels(CHANNELS)\n",
    "wf.setsampwidth(p.get_sample_size(FORMAT))\n",
    "wf.setframerate(RATE)\n",
    "wf.writeframes(b''.join(frames))\n",
    "wf.close()\n",
    "\n",
    "\n",
    "\n",
    "# SPEECH TO TEXT\n",
    "import speech_recognition as sr\n",
    "\n",
    "with sr.AudioFile(filename) as source:\n",
    "    r = sr.Recognizer()\n",
    "    audio_data = r.record(source)\n",
    "    text = r.recognize_google(audio_data, language='ru-RU')\n",
    "    print(f'You said: {text}')"
   ]
  }
 ],
 "metadata": {
  "kernelspec": {
   "display_name": ".venv",
   "language": "python",
   "name": "python3"
  },
  "language_info": {
   "codemirror_mode": {
    "name": "ipython",
    "version": 3
   },
   "file_extension": ".py",
   "mimetype": "text/x-python",
   "name": "python",
   "nbconvert_exporter": "python",
   "pygments_lexer": "ipython3",
   "version": "3.9.0"
  },
  "orig_nbformat": 4
 },
 "nbformat": 4,
 "nbformat_minor": 2
}
